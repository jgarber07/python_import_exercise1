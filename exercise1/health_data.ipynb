{
 "cells": [
  {
   "cell_type": "code",
   "execution_count": 34,
   "metadata": {},
   "outputs": [
    {
     "data": {
      "text/plain": [
       "'C:\\\\Users\\\\Admin'"
      ]
     },
     "execution_count": 34,
     "metadata": {},
     "output_type": "execute_result"
    }
   ],
   "source": [
    "import pandas as pd\n",
    "import os\n",
    "os.getcwd()"
   ]
  },
  {
   "cell_type": "code",
   "execution_count": 45,
   "metadata": {},
   "outputs": [
    {
     "data": {
      "text/plain": [
       "True"
      ]
     },
     "execution_count": 45,
     "metadata": {},
     "output_type": "execute_result"
    }
   ],
   "source": [
    "os.path.isfile('C:\\\\Users\\Admin\\Documents\\KCTC\\Python\\healthdata2.csv')"
   ]
  },
  {
   "cell_type": "code",
   "execution_count": 46,
   "metadata": {},
   "outputs": [
    {
     "name": "stdout",
     "output_type": "stream",
     "text": [
      "      Family income8 All types of heart disease1 Coronary heart disease1  \\\n",
      "0  Less than $35,000                 13.4 (0.46)              7.7 (0.34)   \n",
      "1    $35,000 or more                 10.8 (0.27)              5.2 (0.18)   \n",
      "2    $35,000?$49,999                 12.3 (0.69)              6.6 (0.46)   \n",
      "3    $50,000?$74,999                 11.3 (0.55)              6.0 (0.41)   \n",
      "4    $75,000?$99,999                 11.4 (0.64)              5.1 (0.41)   \n",
      "5   $100,000 or more                  9.8 (0.44)              4.4 (0.30)   \n",
      "\n",
      "  Hypertension1     Stroke1  \n",
      "0   29.8 (0.62)  4.8 (0.29)  \n",
      "1   23.5 (0.36)  2.2 (0.14)  \n",
      "2   27.4 (0.88)  2.6 (0.33)  \n",
      "3   26.8 (0.80)  2.9 (0.31)  \n",
      "4   23.7 (0.80)  1.9 (0.28)  \n",
      "5   20.4 (0.54)  1.8 (0.23)  \n"
     ]
    }
   ],
   "source": [
    "df1 = pd.read_csv(\"C:\\\\Users\\Admin\\Documents\\KCTC\\Python\\healthdata2.csv\")\n",
    "print(df1)"
   ]
  },
  {
   "cell_type": "code",
   "execution_count": null,
   "metadata": {},
   "outputs": [],
   "source": []
  }
 ],
 "metadata": {
  "kernelspec": {
   "display_name": "Python 3",
   "language": "python",
   "name": "python3"
  },
  "language_info": {
   "codemirror_mode": {
    "name": "ipython",
    "version": 3
   },
   "file_extension": ".py",
   "mimetype": "text/x-python",
   "name": "python",
   "nbconvert_exporter": "python",
   "pygments_lexer": "ipython3",
   "version": "3.7.4"
  }
 },
 "nbformat": 4,
 "nbformat_minor": 2
}
